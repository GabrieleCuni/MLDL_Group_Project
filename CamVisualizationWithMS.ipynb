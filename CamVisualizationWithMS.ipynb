{
  "nbformat": 4,
  "nbformat_minor": 0,
  "metadata": {
    "colab": {
      "name": "CamVisualizationWithMS2_Gabriele.ipynb",
      "provenance": []
    },
    "kernelspec": {
      "name": "python3",
      "display_name": "Python 3"
    },
    "accelerator": "GPU",
    "widgets": {
      "application/vnd.jupyter.widget-state+json": {
        "159779157f304b00a01a92606a6ba579": {
          "model_module": "@jupyter-widgets/controls",
          "model_name": "HBoxModel",
          "state": {
            "_view_name": "HBoxView",
            "_dom_classes": [],
            "_model_name": "HBoxModel",
            "_view_module": "@jupyter-widgets/controls",
            "_model_module_version": "1.5.0",
            "_view_count": null,
            "_view_module_version": "1.5.0",
            "box_style": "",
            "layout": "IPY_MODEL_e2709d35919b40fba300719e975200fc",
            "_model_module": "@jupyter-widgets/controls",
            "children": [
              "IPY_MODEL_a386f937fa59487d938d90306567ec77",
              "IPY_MODEL_cd838cbd7ab84c7c97d535b000cd8290"
            ]
          }
        },
        "e2709d35919b40fba300719e975200fc": {
          "model_module": "@jupyter-widgets/base",
          "model_name": "LayoutModel",
          "state": {
            "_view_name": "LayoutView",
            "grid_template_rows": null,
            "right": null,
            "justify_content": null,
            "_view_module": "@jupyter-widgets/base",
            "overflow": null,
            "_model_module_version": "1.2.0",
            "_view_count": null,
            "flex_flow": null,
            "width": null,
            "min_width": null,
            "border": null,
            "align_items": null,
            "bottom": null,
            "_model_module": "@jupyter-widgets/base",
            "top": null,
            "grid_column": null,
            "overflow_y": null,
            "overflow_x": null,
            "grid_auto_flow": null,
            "grid_area": null,
            "grid_template_columns": null,
            "flex": null,
            "_model_name": "LayoutModel",
            "justify_items": null,
            "grid_row": null,
            "max_height": null,
            "align_content": null,
            "visibility": null,
            "align_self": null,
            "height": null,
            "min_height": null,
            "padding": null,
            "grid_auto_rows": null,
            "grid_gap": null,
            "max_width": null,
            "order": null,
            "_view_module_version": "1.2.0",
            "grid_template_areas": null,
            "object_position": null,
            "object_fit": null,
            "grid_auto_columns": null,
            "margin": null,
            "display": null,
            "left": null
          }
        },
        "a386f937fa59487d938d90306567ec77": {
          "model_module": "@jupyter-widgets/controls",
          "model_name": "FloatProgressModel",
          "state": {
            "_view_name": "ProgressView",
            "style": "IPY_MODEL_0d7926b31f294e509629b17660226de1",
            "_dom_classes": [],
            "description": "100%",
            "_model_name": "FloatProgressModel",
            "bar_style": "success",
            "max": 87306240,
            "_view_module": "@jupyter-widgets/controls",
            "_model_module_version": "1.5.0",
            "value": 87306240,
            "_view_count": null,
            "_view_module_version": "1.5.0",
            "orientation": "horizontal",
            "min": 0,
            "description_tooltip": null,
            "_model_module": "@jupyter-widgets/controls",
            "layout": "IPY_MODEL_bac60d00a9194136a38e8154f0ade144"
          }
        },
        "cd838cbd7ab84c7c97d535b000cd8290": {
          "model_module": "@jupyter-widgets/controls",
          "model_name": "HTMLModel",
          "state": {
            "_view_name": "HTMLView",
            "style": "IPY_MODEL_12ba75139a6b4516914f43bcca91a59f",
            "_dom_classes": [],
            "description": "",
            "_model_name": "HTMLModel",
            "placeholder": "​",
            "_view_module": "@jupyter-widgets/controls",
            "_model_module_version": "1.5.0",
            "value": " 83.3M/83.3M [01:36&lt;00:00, 904kB/s]",
            "_view_count": null,
            "_view_module_version": "1.5.0",
            "description_tooltip": null,
            "_model_module": "@jupyter-widgets/controls",
            "layout": "IPY_MODEL_52781f9d525b45929e7869fa81dfc937"
          }
        },
        "0d7926b31f294e509629b17660226de1": {
          "model_module": "@jupyter-widgets/controls",
          "model_name": "ProgressStyleModel",
          "state": {
            "_view_name": "StyleView",
            "_model_name": "ProgressStyleModel",
            "description_width": "initial",
            "_view_module": "@jupyter-widgets/base",
            "_model_module_version": "1.5.0",
            "_view_count": null,
            "_view_module_version": "1.2.0",
            "bar_color": null,
            "_model_module": "@jupyter-widgets/controls"
          }
        },
        "bac60d00a9194136a38e8154f0ade144": {
          "model_module": "@jupyter-widgets/base",
          "model_name": "LayoutModel",
          "state": {
            "_view_name": "LayoutView",
            "grid_template_rows": null,
            "right": null,
            "justify_content": null,
            "_view_module": "@jupyter-widgets/base",
            "overflow": null,
            "_model_module_version": "1.2.0",
            "_view_count": null,
            "flex_flow": null,
            "width": null,
            "min_width": null,
            "border": null,
            "align_items": null,
            "bottom": null,
            "_model_module": "@jupyter-widgets/base",
            "top": null,
            "grid_column": null,
            "overflow_y": null,
            "overflow_x": null,
            "grid_auto_flow": null,
            "grid_area": null,
            "grid_template_columns": null,
            "flex": null,
            "_model_name": "LayoutModel",
            "justify_items": null,
            "grid_row": null,
            "max_height": null,
            "align_content": null,
            "visibility": null,
            "align_self": null,
            "height": null,
            "min_height": null,
            "padding": null,
            "grid_auto_rows": null,
            "grid_gap": null,
            "max_width": null,
            "order": null,
            "_view_module_version": "1.2.0",
            "grid_template_areas": null,
            "object_position": null,
            "object_fit": null,
            "grid_auto_columns": null,
            "margin": null,
            "display": null,
            "left": null
          }
        },
        "12ba75139a6b4516914f43bcca91a59f": {
          "model_module": "@jupyter-widgets/controls",
          "model_name": "DescriptionStyleModel",
          "state": {
            "_view_name": "StyleView",
            "_model_name": "DescriptionStyleModel",
            "description_width": "",
            "_view_module": "@jupyter-widgets/base",
            "_model_module_version": "1.5.0",
            "_view_count": null,
            "_view_module_version": "1.2.0",
            "_model_module": "@jupyter-widgets/controls"
          }
        },
        "52781f9d525b45929e7869fa81dfc937": {
          "model_module": "@jupyter-widgets/base",
          "model_name": "LayoutModel",
          "state": {
            "_view_name": "LayoutView",
            "grid_template_rows": null,
            "right": null,
            "justify_content": null,
            "_view_module": "@jupyter-widgets/base",
            "overflow": null,
            "_model_module_version": "1.2.0",
            "_view_count": null,
            "flex_flow": null,
            "width": null,
            "min_width": null,
            "border": null,
            "align_items": null,
            "bottom": null,
            "_model_module": "@jupyter-widgets/base",
            "top": null,
            "grid_column": null,
            "overflow_y": null,
            "overflow_x": null,
            "grid_auto_flow": null,
            "grid_area": null,
            "grid_template_columns": null,
            "flex": null,
            "_model_name": "LayoutModel",
            "justify_items": null,
            "grid_row": null,
            "max_height": null,
            "align_content": null,
            "visibility": null,
            "align_self": null,
            "height": null,
            "min_height": null,
            "padding": null,
            "grid_auto_rows": null,
            "grid_gap": null,
            "max_width": null,
            "order": null,
            "_view_module_version": "1.2.0",
            "grid_template_areas": null,
            "object_position": null,
            "object_fit": null,
            "grid_auto_columns": null,
            "margin": null,
            "display": null,
            "left": null
          }
        }
      }
    }
  },
  "cells": [
    {
      "cell_type": "code",
      "metadata": {
        "id": "PqhqZ5U78Lhq",
        "colab_type": "code",
        "colab": {
          "base_uri": "https://localhost:8080/",
          "height": 141
        },
        "outputId": "c713ebf6-8c67-4e24-eed0-35973b3f8ca1"
      },
      "source": [
        "from google.colab import drive\n",
        "import os\n",
        "drive.mount('/content/gdrive/')\n",
        "path = './gdrive/My Drive/Ego-rnn'\n",
        "os.chdir(path)\n",
        "cwd = os.getcwd()\n",
        "print('Current dir: ' + cwd)"
      ],
      "execution_count": null,
      "outputs": [
        {
          "output_type": "stream",
          "text": [
            "Go to this URL in a browser: https://accounts.google.com/o/oauth2/auth?client_id=947318989803-6bn6qk8qdgf4n4g3pfee6491hc0brc4i.apps.googleusercontent.com&redirect_uri=urn%3aietf%3awg%3aoauth%3a2.0%3aoob&scope=email%20https%3a%2f%2fwww.googleapis.com%2fauth%2fdocs.test%20https%3a%2f%2fwww.googleapis.com%2fauth%2fdrive%20https%3a%2f%2fwww.googleapis.com%2fauth%2fdrive.photos.readonly%20https%3a%2f%2fwww.googleapis.com%2fauth%2fpeopleapi.readonly&response_type=code\n",
            "\n",
            "Enter your authorization code:\n",
            "··········\n",
            "Mounted at /content/gdrive/\n",
            "Current dir: /content/gdrive/.shortcut-targets-by-id/1Xxx9alb9ihnKJGJIfncCDl6hf4BfiJ6k/Ego-rnn\n"
          ],
          "name": "stdout"
        }
      ]
    },
    {
      "cell_type": "code",
      "metadata": {
        "id": "cqCUHE5y8cq2",
        "colab_type": "code",
        "colab": {}
      },
      "source": [
        "import os\n",
        "import numpy as np\n",
        "from torchvision import transforms\n",
        "import cv2\n",
        "from objectAttentionModelConvLSTM_MS import *\n",
        "from attentionMapModel import attentionMap\n",
        "from PIL import Image"
      ],
      "execution_count": null,
      "outputs": []
    },
    {
      "cell_type": "code",
      "metadata": {
        "id": "PBwK_dVw8Swr",
        "colab_type": "code",
        "colab": {
          "base_uri": "https://localhost:8080/",
          "height": 521,
          "referenced_widgets": [
            "159779157f304b00a01a92606a6ba579",
            "e2709d35919b40fba300719e975200fc",
            "a386f937fa59487d938d90306567ec77",
            "cd838cbd7ab84c7c97d535b000cd8290",
            "0d7926b31f294e509629b17660226de1",
            "bac60d00a9194136a38e8154f0ade144",
            "12ba75139a6b4516914f43bcca91a59f",
            "52781f9d525b45929e7869fa81dfc937"
          ]
        },
        "outputId": "3256aa6c-fd19-4b78-8f51-30491a033660"
      },
      "source": [
        "expFolder = \"experiments_MSTask_16frames\"\n",
        "stage = \"stage2\"\n",
        "modelPath = os.path.join(\"./\", expFolder, \"gtea61\", \"rgb_ms\", stage, \"model_rgb_state_dict.pth\")\n",
        "\n",
        "model = attentionModel(num_classes=61, mem_size=512)\n",
        "model.load_state_dict(torch.load(modelPath))\n",
        "model_backbone = model.resNet\n",
        "attentionMapModel = attentionMap(model_backbone).cuda()\n",
        "attentionMapModel.train(False)\n",
        "for params in attentionMapModel.parameters():\n",
        "    params.requires_grad = False"
      ],
      "execution_count": null,
      "outputs": [
        {
          "output_type": "stream",
          "text": [
            "Downloading: \"https://download.pytorch.org/models/resnet34-333f7ec4.pth\" to /root/.cache/torch/hub/checkpoints/resnet34-333f7ec4.pth\n"
          ],
          "name": "stderr"
        },
        {
          "output_type": "display_data",
          "data": {
            "application/vnd.jupyter.widget-view+json": {
              "model_id": "159779157f304b00a01a92606a6ba579",
              "version_minor": 0,
              "version_major": 2
            },
            "text/plain": [
              "HBox(children=(FloatProgress(value=0.0, max=87306240.0), HTML(value='')))"
            ]
          },
          "metadata": {
            "tags": []
          }
        },
        {
          "output_type": "stream",
          "text": [
            "\n"
          ],
          "name": "stdout"
        },
        {
          "output_type": "stream",
          "text": [
            "/content/gdrive/.shortcut-targets-by-id/1Xxx9alb9ihnKJGJIfncCDl6hf4BfiJ6k/Ego-rnn/MyConvLSTMCell.py:31: UserWarning: nn.init.xavier_normal is now deprecated in favor of nn.init.xavier_normal_.\n",
            "  torch.nn.init.xavier_normal(self.conv_i_xx.weight)\n",
            "/content/gdrive/.shortcut-targets-by-id/1Xxx9alb9ihnKJGJIfncCDl6hf4BfiJ6k/Ego-rnn/MyConvLSTMCell.py:32: UserWarning: nn.init.constant is now deprecated in favor of nn.init.constant_.\n",
            "  torch.nn.init.constant(self.conv_i_xx.bias, 0)\n",
            "/content/gdrive/.shortcut-targets-by-id/1Xxx9alb9ihnKJGJIfncCDl6hf4BfiJ6k/Ego-rnn/MyConvLSTMCell.py:33: UserWarning: nn.init.xavier_normal is now deprecated in favor of nn.init.xavier_normal_.\n",
            "  torch.nn.init.xavier_normal(self.conv_i_hh.weight)\n",
            "/content/gdrive/.shortcut-targets-by-id/1Xxx9alb9ihnKJGJIfncCDl6hf4BfiJ6k/Ego-rnn/MyConvLSTMCell.py:35: UserWarning: nn.init.xavier_normal is now deprecated in favor of nn.init.xavier_normal_.\n",
            "  torch.nn.init.xavier_normal(self.conv_f_xx.weight)\n",
            "/content/gdrive/.shortcut-targets-by-id/1Xxx9alb9ihnKJGJIfncCDl6hf4BfiJ6k/Ego-rnn/MyConvLSTMCell.py:36: UserWarning: nn.init.constant is now deprecated in favor of nn.init.constant_.\n",
            "  torch.nn.init.constant(self.conv_f_xx.bias, 0)\n",
            "/content/gdrive/.shortcut-targets-by-id/1Xxx9alb9ihnKJGJIfncCDl6hf4BfiJ6k/Ego-rnn/MyConvLSTMCell.py:37: UserWarning: nn.init.xavier_normal is now deprecated in favor of nn.init.xavier_normal_.\n",
            "  torch.nn.init.xavier_normal(self.conv_f_hh.weight)\n",
            "/content/gdrive/.shortcut-targets-by-id/1Xxx9alb9ihnKJGJIfncCDl6hf4BfiJ6k/Ego-rnn/MyConvLSTMCell.py:39: UserWarning: nn.init.xavier_normal is now deprecated in favor of nn.init.xavier_normal_.\n",
            "  torch.nn.init.xavier_normal(self.conv_c_xx.weight)\n",
            "/content/gdrive/.shortcut-targets-by-id/1Xxx9alb9ihnKJGJIfncCDl6hf4BfiJ6k/Ego-rnn/MyConvLSTMCell.py:40: UserWarning: nn.init.constant is now deprecated in favor of nn.init.constant_.\n",
            "  torch.nn.init.constant(self.conv_c_xx.bias, 0)\n",
            "/content/gdrive/.shortcut-targets-by-id/1Xxx9alb9ihnKJGJIfncCDl6hf4BfiJ6k/Ego-rnn/MyConvLSTMCell.py:41: UserWarning: nn.init.xavier_normal is now deprecated in favor of nn.init.xavier_normal_.\n",
            "  torch.nn.init.xavier_normal(self.conv_c_hh.weight)\n",
            "/content/gdrive/.shortcut-targets-by-id/1Xxx9alb9ihnKJGJIfncCDl6hf4BfiJ6k/Ego-rnn/MyConvLSTMCell.py:43: UserWarning: nn.init.xavier_normal is now deprecated in favor of nn.init.xavier_normal_.\n",
            "  torch.nn.init.xavier_normal(self.conv_o_xx.weight)\n",
            "/content/gdrive/.shortcut-targets-by-id/1Xxx9alb9ihnKJGJIfncCDl6hf4BfiJ6k/Ego-rnn/MyConvLSTMCell.py:44: UserWarning: nn.init.constant is now deprecated in favor of nn.init.constant_.\n",
            "  torch.nn.init.constant(self.conv_o_xx.bias, 0)\n",
            "/content/gdrive/.shortcut-targets-by-id/1Xxx9alb9ihnKJGJIfncCDl6hf4BfiJ6k/Ego-rnn/MyConvLSTMCell.py:45: UserWarning: nn.init.xavier_normal is now deprecated in favor of nn.init.xavier_normal_.\n",
            "  torch.nn.init.xavier_normal(self.conv_o_hh.weight)\n"
          ],
          "name": "stderr"
        }
      ]
    },
    {
      "cell_type": "code",
      "metadata": {
        "id": "lDWRpvUz9c8E",
        "colab_type": "code",
        "colab": {
          "base_uri": "https://localhost:8080/",
          "height": 228
        },
        "outputId": "28ccbc8a-238a-41c5-c8b8-0487f10d3814"
      },
      "source": [
        "normalize = transforms.Normalize(\n",
        "   mean=[0.485, 0.456, 0.406],\n",
        "   std=[0.229, 0.224, 0.225]\n",
        ")\n",
        "preprocess1 = transforms.Compose([\n",
        "   transforms.Scale(256),\n",
        "   transforms.CenterCrop(224),\n",
        "])\n",
        "\n",
        "preprocess2 = transforms.Compose([\n",
        "    transforms.ToTensor(),\n",
        "    normalize])\n",
        "\n",
        "imagePath = \"CAM_visualization/InputImages\"\n",
        "\n",
        "for imageName in os.listdir(imagePath):\n",
        "  print(f\"Start {imageName}\")\n",
        "  img_pil = Image.open(os.path.join(imagePath, imageName))\n",
        "  img_pil1 = preprocess1(img_pil)\n",
        "  img_size = img_pil1.size\n",
        "  size_upsample = (img_size[0], img_size[1])\n",
        "  img_tensor = preprocess2(img_pil1)\n",
        "  img_variable = Variable(img_tensor.unsqueeze(0).cuda())\n",
        "  img = np.asarray(img_pil1)\n",
        "  attentionMap_image = attentionMapModel(img_variable, img, size_upsample)\n",
        "  cv2.imwrite(f'CAM_visualization/CAM2 - {imageName}', attentionMap_image)\n"
      ],
      "execution_count": null,
      "outputs": [
        {
          "output_type": "stream",
          "text": [
            "/usr/local/lib/python3.6/dist-packages/torchvision/transforms/transforms.py:257: UserWarning: The use of the transforms.Scale transform is deprecated, please use transforms.Resize instead.\n",
            "  \"please use transforms.Resize instead.\")\n"
          ],
          "name": "stderr"
        },
        {
          "output_type": "stream",
          "text": [
            "Start Close chocolate.png\n",
            "Start close coffe.png\n",
            "Start scoop peanut.png\n",
            "Start stir spoon.png\n",
            "Start open tea.png\n",
            "Start spread peanut.png\n",
            "Start open peanut.png\n",
            "Start take honey.png\n",
            "Start close chocolate2.png\n"
          ],
          "name": "stdout"
        }
      ]
    },
    {
      "cell_type": "code",
      "metadata": {
        "id": "ELR1vzKzAqDD",
        "colab_type": "code",
        "colab": {
          "base_uri": "https://localhost:8080/",
          "height": 34
        },
        "outputId": "22e83c62-6485-4804-abda-279c5489c922"
      },
      "source": [
        "print(imagePath)"
      ],
      "execution_count": null,
      "outputs": [
        {
          "output_type": "stream",
          "text": [
            "CAM_visualization/InputImages\n"
          ],
          "name": "stdout"
        }
      ]
    }
  ]
}